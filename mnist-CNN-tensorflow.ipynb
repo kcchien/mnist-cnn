{
 "cells": [
  {
   "cell_type": "code",
   "execution_count": 1,
   "metadata": {
    "collapsed": true
   },
   "outputs": [],
   "source": [
    "%matplotlib inline"
   ]
  },
  {
   "cell_type": "code",
   "execution_count": 2,
   "metadata": {},
   "outputs": [
    {
     "name": "stderr",
     "output_type": "stream",
     "text": [
      "/Users/syshen/anaconda3/lib/python3.6/importlib/_bootstrap.py:219: RuntimeWarning: compiletime version 3.5 of module 'tensorflow.python.framework.fast_tensor_util' does not match runtime version 3.6\n",
      "  return f(*args, **kwds)\n"
     ]
    }
   ],
   "source": [
    "import numpy as np\n",
    "import tensorflow as tf\n",
    "import matplotlib.pyplot as plt\n",
    "from time import time"
   ]
  },
  {
   "cell_type": "code",
   "execution_count": 3,
   "metadata": {},
   "outputs": [
    {
     "name": "stdout",
     "output_type": "stream",
     "text": [
      "Extracting data/train-images-idx3-ubyte.gz\n",
      "Extracting data/train-labels-idx1-ubyte.gz\n",
      "Extracting data/t10k-images-idx3-ubyte.gz\n",
      "Extracting data/t10k-labels-idx1-ubyte.gz\n"
     ]
    }
   ],
   "source": [
    "import tensorflow.examples.tutorials.mnist.input_data as input_data\n",
    "mnist = input_data.read_data_sets(\"data/\", one_hot=True)"
   ]
  },
  {
   "cell_type": "code",
   "execution_count": 4,
   "metadata": {
    "collapsed": true
   },
   "outputs": [],
   "source": [
    "def variable_summaries(var):\n",
    "  with tf.name_scope('summaries'):\n",
    "    mean = tf.reduce_mean(var)\n",
    "    tf.summary.scalar('mean', mean)\n",
    "    with tf.name_scope('stddev'):\n",
    "      stddev = tf.sqrt(tf.reduce_mean(tf.square(var - mean)))\n",
    "    tf.summary.scalar('stddev', stddev)\n",
    "    tf.summary.scalar('max', tf.reduce_max(var))\n",
    "    tf.summary.scalar('min', tf.reduce_min(var))\n",
    "    tf.summary.histogram('histogram', var)\n",
    "    \n",
    "def weight(shape):\n",
    "    w = tf.Variable(tf.truncated_normal(shape, stddev=0.1), name=\"W\")\n",
    "    variable_summaries(w)\n",
    "    return w\n",
    "def bias(shape):\n",
    "    b = tf.Variable(tf.constant(0.1, shape=shape), name=\"b\")\n",
    "    variable_summaries(b)\n",
    "    return b\n",
    "def conv2d(x, W):\n",
    "    c = tf.nn.conv2d(x, W, strides=[1,1,1,1], padding=\"SAME\")\n",
    "    variable_summaries(c)\n",
    "    return c\n",
    "def max_pool_2x2(x):\n",
    "    p = tf.nn.max_pool(x, ksize=[1,2,2,1], strides=[1,2,2,1], padding=\"SAME\")\n",
    "    variable_summaries(p)\n",
    "    return p"
   ]
  },
  {
   "cell_type": "code",
   "execution_count": 5,
   "metadata": {
    "collapsed": true
   },
   "outputs": [],
   "source": [
    "with tf.name_scope(\"Input_Layer\"):\n",
    "    x = tf.placeholder(\"float\", shape=[None, 28*28], name=\"x\")\n",
    "    x_image = tf.reshape(x, [-1, 28, 28, 1])\n",
    "\n",
    "with tf.name_scope(\"C1_Conv\"):\n",
    "    filter_num = 16\n",
    "    W1 = weight([5,5,1,filter_num])\n",
    "    b1 = bias([filter_num])\n",
    "    Conv1 = conv2d(x_image, W1) + b1\n",
    "    tf.summary.histogram(\"C1_pre_activation\", Conv1)\n",
    "    C1_Conv = tf.nn.relu(Conv1)\n",
    "    tf.summary.histogram(\"C1_post_activation\", C1_Conv)\n",
    "    \n",
    "with tf.name_scope(\"C1_Pool\"):\n",
    "    C1_Pool = max_pool_2x2(C1_Conv)\n",
    "    \n",
    "with tf.name_scope(\"C2_Conv\"):\n",
    "    filter_num = 36\n",
    "    W2 = weight([5,5,16,36])\n",
    "    b2 = bias([filter_num])\n",
    "    Conv2 = conv2d(C1_Pool, W2) + b2\n",
    "    tf.summary.histogram(\"C2_pre_activation\", Conv2)\n",
    "    C2_Conv = tf.nn.relu(Conv2)\n",
    "    tf.summary.histogram(\"C2_post_activation\", C2_Conv)\n",
    "    \n",
    "with tf.name_scope(\"C2_Pool\"):\n",
    "    C2_Pool = max_pool_2x2(C2_Conv)\n",
    "    \n",
    "with tf.name_scope(\"D_Flat\"):\n",
    "    D_Flat = tf.reshape(C2_Pool, [-1, 1764])\n",
    "    \n",
    "with tf.name_scope(\"D_Hidden_Layer\"):\n",
    "    W3 = weight([1764, 128])\n",
    "    b3 = bias([128])\n",
    "    D_Hidden = tf.nn.relu(tf.matmul(D_Flat, W3)+b3)\n",
    "    D_Hidden_Dropout = tf.nn.dropout(D_Hidden, keep_prob=0.8)\n",
    "    \n",
    "with tf.name_scope(\"Output_Layer\"):\n",
    "    W4 = weight([128, 10])\n",
    "    b4 = bias([10])\n",
    "    y_predict = tf.nn.softmax(tf.matmul(D_Hidden_Dropout, W4) + b4)\n",
    "    "
   ]
  },
  {
   "cell_type": "code",
   "execution_count": null,
   "metadata": {
    "collapsed": true
   },
   "outputs": [],
   "source": [
    "with tf.name_scope(\"optimizer\"):\n",
    "    y_label = tf.placeholder(\"float\", shape=[None, 10], name=\"y_label\")\n",
    "    loss_function = tf.reduce_mean(\n",
    "                        tf.nn.softmax_cross_entropy_with_logits(logits=y_predict, labels=y_label)\n",
    "                    )\n",
    "    \n",
    "    learning_rate = tf.train.exponential_decay(0.01, 10,\n",
    "                                           3, 0.5, staircase=True)\n",
    "    with tf.name_scope(\"learning_rate\"):\n",
    "        tf.summary.scalar(\"learning_rate\", learning_rate)\n",
    "    optimizer = tf.train.AdamOptimizer(learning_rate = learning_rate).minimize(loss_function)\n",
    "\n",
    "with tf.name_scope(\"evaluate_model\"):\n",
    "    correct_prediction = tf.equal(tf.argmax(y_predict, 1), tf.argmax(y_label, 1))\n",
    "    accuracy = tf.reduce_mean(tf.cast(correct_prediction, \"float\"))\n",
    "    \n",
    "with tf.name_scope('loss_accuracy'):\n",
    "    tf.summary.scalar(\"loss\", loss_function)\n",
    "    tf.summary.scalar(\"accuracy\", accuracy)\n"
   ]
  },
  {
   "cell_type": "code",
   "execution_count": null,
   "metadata": {},
   "outputs": [
    {
     "name": "stdout",
     "output_type": "stream",
     "text": [
      "Start training ...\n",
      "epoch: 01 Loss=  1.490407  Accuracy= 0.9712\n"
     ]
    }
   ],
   "source": [
    "epochs = 10\n",
    "batchSize = 100\n",
    "totalBatchs = int(mnist.train.num_examples/batchSize)\n",
    "epoch_list = []\n",
    "accuracy_list = []\n",
    "loss_list = []\n",
    "\n",
    "startTime = time()\n",
    "\n",
    "merged = tf.summary.merge_all()\n",
    "\n",
    "print(\"Start training ...\")\n",
    "with tf.Session() as sess:\n",
    "    # Write logs and display on Tensorboard\n",
    "    train_writer = tf.summary.FileWriter('log/CNN', sess.graph)\n",
    "\n",
    "    sess.run(tf.global_variables_initializer())\n",
    "    for epoch in range(epochs):\n",
    "        for i in range(totalBatchs):\n",
    "            batch_x, batch_y = mnist.train.next_batch(batchSize)\n",
    "            sess.run(optimizer, feed_dict={x: batch_x, y_label: batch_y})\n",
    "\n",
    "        summary, loss, acc = sess.run([merged, loss_function, accuracy], feed_dict={x: mnist.validation.images, y_label:mnist.validation.labels})\n",
    "\n",
    "        train_writer.add_summary(summary, epoch)\n",
    "\n",
    "        epoch_list.append(epoch)\n",
    "        loss_list.append(loss)\n",
    "        accuracy_list.append(acc)\n",
    "        print(\"epoch:\", \"%02d\" % (epoch+1), \"Loss=\", \"{:9f}\".format(loss), \" Accuracy=\", acc)\n",
    "    duration = time() - startTime\n",
    "    print(\"Training takes:\", duration, \" seconds\")\n",
    "    \n",
    "    \n",
    "    summary, acc = sess.run([merged, accuracy], feed_dict={x: mnist.test.images, y_label: mnist.test.labels})\n",
    "    print(\"Accuracy = {0}%\".format(acc * 100))\n",
    "    train_writer.add_summary(summary)\n",
    "    prediction = sess.run(tf.argmax(y_predict, 1), feed_dict={x: mnist.test.images})\n",
    "    print(prediction[:10])"
   ]
  },
  {
   "cell_type": "code",
   "execution_count": null,
   "metadata": {},
   "outputs": [],
   "source": [
    "plt.figure(figsize=(4,4))\n",
    "for i in range(0, 9):\n",
    "    plt.subplot(3, 3, i+1)\n",
    "    img = mnist.test.images[i].reshape([28,28])\n",
    "    plt.imshow(img, cmap=\"gray\")\n",
    "    l = np.argmax(mnist.test.labels[i])\n",
    "    plt.title(\"%s / %s\" % (l, prediction[i]))\n"
   ]
  },
  {
   "cell_type": "code",
   "execution_count": null,
   "metadata": {
    "collapsed": true
   },
   "outputs": [],
   "source": []
  },
  {
   "cell_type": "code",
   "execution_count": null,
   "metadata": {
    "collapsed": true
   },
   "outputs": [],
   "source": []
  }
 ],
 "metadata": {
  "kernelspec": {
   "display_name": "Python 3",
   "language": "python",
   "name": "python3"
  },
  "language_info": {
   "codemirror_mode": {
    "name": "ipython",
    "version": 3
   },
   "file_extension": ".py",
   "mimetype": "text/x-python",
   "name": "python",
   "nbconvert_exporter": "python",
   "pygments_lexer": "ipython3",
   "version": "3.6.3"
  }
 },
 "nbformat": 4,
 "nbformat_minor": 2
}
