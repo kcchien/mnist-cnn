{
 "cells": [
  {
   "cell_type": "code",
   "execution_count": 1,
   "metadata": {
    "collapsed": true
   },
   "outputs": [],
   "source": [
    "%matplotlib inline"
   ]
  },
  {
   "cell_type": "code",
   "execution_count": 2,
   "metadata": {},
   "outputs": [
    {
     "name": "stderr",
     "output_type": "stream",
     "text": [
      "Using TensorFlow backend.\n"
     ]
    }
   ],
   "source": [
    "import numpy as np\n",
    "import matplotlib.pyplot as plt\n",
    "from keras.datasets import mnist\n",
    "from sklearn.model_selection import train_test_split\n",
    "\n",
    "np.random.seed(25)"
   ]
  },
  {
   "cell_type": "code",
   "execution_count": 3,
   "metadata": {
    "collapsed": true
   },
   "outputs": [],
   "source": [
    "# 下載 mnist 資料\n",
    "(x_train, y_train), (x_test, y_test) = mnist.load_data()\n",
    "# x_train: trainning data\n",
    "# y_train: labels of each trainning data\n",
    "# x_test: testing data\n",
    "# y_test: labels of each testing data"
   ]
  },
  {
   "cell_type": "code",
   "execution_count": 4,
   "metadata": {
    "collapsed": true
   },
   "outputs": [],
   "source": [
    "x_train, x_val, y_train, y_val = train_test_split(x_train, y_train, test_size = 0.2, random_state=25)"
   ]
  },
  {
   "cell_type": "code",
   "execution_count": 5,
   "metadata": {
    "scrolled": false
   },
   "outputs": [
    {
     "data": {
      "image/png": "[encoded data removed]",
      "text/plain": [
       "<matplotlib.figure.Figure at 0x7f9f7487aef0>"
      ]
     },
     "metadata": {},
     "output_type": "display_data"
    }
   ],
   "source": [
    "plt.figure(figsize=(4,4))\n",
    "for i in range(0, 9):\n",
    "    plt.subplot(3, 3, i+1)\n",
    "    plt.imshow(x_train[i], cmap=\"gray\")\n",
    "    plt.title(\"Class %s\" %y_train[i])"
   ]
  },
  {
   "cell_type": "code",
   "execution_count": 6,
   "metadata": {},
   "outputs": [
    {
     "name": "stdout",
     "output_type": "stream",
     "text": [
      "(48000, 28, 28, 1)\n",
      "(10000, 28, 28, 1)\n"
     ]
    }
   ],
   "source": [
    "# add channel\n",
    "x_train = np.expand_dims(x_train, axis=3)\n",
    "x_test = np.expand_dims(x_test, axis=3)\n",
    "x_val = np.expand_dims(x_val, axis=3)\n",
    "print(x_train.shape)\n",
    "print(x_test.shape)\n",
    "x_train_normalized = x_train / 255\n",
    "x_test_normalized = x_test / 255\n",
    "x_val_normalized = x_val / 255"
   ]
  },
  {
   "cell_type": "code",
   "execution_count": 7,
   "metadata": {
    "collapsed": true
   },
   "outputs": [],
   "source": [
    "def show_train_history(train_history, train, validation):\n",
    "    plt.plot(train_history.history[train])\n",
    "    plt.plot(train_history.history[validation])\n",
    "    plt.title(\"Train History\")\n",
    "    plt.ylabel(train)\n",
    "    plt.xlabel('Epoch')\n",
    "    plt.show()"
   ]
  },
  {
   "cell_type": "code",
   "execution_count": 8,
   "metadata": {
    "collapsed": true
   },
   "outputs": [],
   "source": [
    "from keras.utils import *\n",
    "from keras.models import Sequential\n",
    "from keras.layers import Dense, Activation, Flatten, Dropout\n",
    "from keras.layers import Conv2D, MaxPooling2D\n",
    "from keras.optimizers import Adam\n",
    "from keras.preprocessing.image import ImageDataGenerator"
   ]
  },
  {
   "cell_type": "code",
   "execution_count": 9,
   "metadata": {
    "collapsed": true
   },
   "outputs": [],
   "source": [
    "model = Sequential()\n",
    "\n",
    "model.add(Conv2D(32, (5,5), activation=\"relu\", padding=\"same\", data_format=\"channels_last\", input_shape=(28,28,1)))\n",
    "model.add(Conv2D(32, (5,5), activation=\"relu\", padding=\"same\", data_format=\"channels_last\", input_shape=(28,28,1)))\n",
    "model.add(MaxPooling2D(pool_size=(2,2), data_format=\"channels_last\"))\n",
    "model.add(Dropout(0.25))\n",
    "\n",
    "model.add(Conv2D(64, (3,3), activation=\"relu\", padding=\"same\", data_format=\"channels_last\"))\n",
    "model.add(Conv2D(64, (3,3), activation=\"relu\", padding=\"same\", data_format=\"channels_last\"))\n",
    "model.add(MaxPooling2D(pool_size=(2,2), data_format=\"channels_last\"))\n",
    "model.add(Dropout(0.25))\n",
    "\n",
    "model.add(Flatten())\n",
    "model.add(Dense(256, activation=\"relu\"))\n",
    "model.add(Dropout(0.5))\n",
    "model.add(Dense(10, activation=\"softmax\"))"
   ]
  },
  {
   "cell_type": "code",
   "execution_count": 10,
   "metadata": {},
   "outputs": [
    {
     "name": "stdout",
     "output_type": "stream",
     "text": [
      "_________________________________________________________________\n",
      "Layer (type)                 Output Shape              Param #   \n",
      "=================================================================\n",
      "conv2d_1 (Conv2D)            (None, 28, 28, 32)        832       \n",
      "_________________________________________________________________\n",
      "conv2d_2 (Conv2D)            (None, 28, 28, 32)        25632     \n",
      "_________________________________________________________________\n",
      "max_pooling2d_1 (MaxPooling2 (None, 14, 14, 32)        0         \n",
      "_________________________________________________________________\n",
      "dropout_1 (Dropout)          (None, 14, 14, 32)        0         \n",
      "_________________________________________________________________\n",
      "conv2d_3 (Conv2D)            (None, 14, 14, 64)        18496     \n",
      "_________________________________________________________________\n",
      "conv2d_4 (Conv2D)            (None, 14, 14, 64)        36928     \n",
      "_________________________________________________________________\n",
      "max_pooling2d_2 (MaxPooling2 (None, 7, 7, 64)          0         \n",
      "_________________________________________________________________\n",
      "dropout_2 (Dropout)          (None, 7, 7, 64)          0         \n",
      "_________________________________________________________________\n",
      "flatten_1 (Flatten)          (None, 3136)              0         \n",
      "_________________________________________________________________\n",
      "dense_1 (Dense)              (None, 256)               803072    \n",
      "_________________________________________________________________\n",
      "dropout_3 (Dropout)          (None, 256)               0         \n",
      "_________________________________________________________________\n",
      "dense_2 (Dense)              (None, 10)                2570      \n",
      "=================================================================\n",
      "Total params: 887,530\n",
      "Trainable params: 887,530\n",
      "Non-trainable params: 0\n",
      "_________________________________________________________________\n"
     ]
    }
   ],
   "source": [
    "layer_utils.print_summary(model)"
   ]
  },
  {
   "cell_type": "code",
   "execution_count": 11,
   "metadata": {
    "collapsed": true
   },
   "outputs": [],
   "source": [
    "# 定義訓練方式\n",
    "# loss function: 交叉熵\n",
    "# optimizer: Adam\n",
    "# 評估模型: 準確率\n",
    "model.compile(loss='categorical_crossentropy', optimizer=Adam(), metrics=['accuracy'])"
   ]
  },
  {
   "cell_type": "code",
   "execution_count": 12,
   "metadata": {
    "collapsed": true
   },
   "outputs": [],
   "source": [
    "y_train_onehot = np_utils.to_categorical(y_train)\n",
    "y_val_onehot = np_utils.to_categorical(y_val)\n",
    "\n",
    "gen = ImageDataGenerator(featurewise_center=False,\n",
    "                         samplewise_center=False,\n",
    "                         rotation_range=8, \n",
    "                         width_shift_range=0.08, \n",
    "                         shear_range=0.3,\n",
    "                         height_shift_range=0.08, \n",
    "                         zoom_range=0.08,\n",
    "                         data_format=\"channels_last\")\n",
    "gen.fit(x_train_normalized)\n",
    "train_generator = gen.flow(x_train_normalized, y_train_onehot, batch_size=300)\n",
    "\n",
    "test_gen = ImageDataGenerator(data_format=\"channels_last\")\n",
    "test_gen.fit(x_test_normalized)\n",
    "test_generator = test_gen.flow(x_test_normalized, y_test, batch_size=300)"
   ]
  },
  {
   "cell_type": "code",
   "execution_count": 13,
   "metadata": {
    "collapsed": true
   },
   "outputs": [],
   "source": [
    "from keras.callbacks import ReduceLROnPlateau\n",
    "learning_rate_function = ReduceLROnPlateau(monitor='val_acc', \n",
    "                                            patience=3, \n",
    "                                            verbose=1, \n",
    "                                            factor=0.5, \n",
    "                                            min_lr=0.00001)"
   ]
  },
  {
   "cell_type": "code",
   "execution_count": 14,
   "metadata": {},
   "outputs": [
    {
     "name": "stdout",
     "output_type": "stream",
     "text": [
      "Epoch 1/30\n",
      "300/300 [==============================] - 19s - loss: 0.3800 - acc: 0.8770 - val_loss: 0.2782 - val_acc: 0.9825\n",
      "Epoch 2/30\n",
      "300/300 [==============================] - 17s - loss: 0.1227 - acc: 0.9634 - val_loss: 0.1745 - val_acc: 0.9891\n",
      "Epoch 3/30\n",
      "300/300 [==============================] - 17s - loss: 0.0910 - acc: 0.9725 - val_loss: 0.1311 - val_acc: 0.9917\n",
      "Epoch 4/30\n",
      "300/300 [==============================] - 17s - loss: 0.0762 - acc: 0.9770 - val_loss: 0.1391 - val_acc: 0.9913\n",
      "Epoch 5/30\n",
      "300/300 [==============================] - 17s - loss: 0.0667 - acc: 0.9799 - val_loss: 0.1377 - val_acc: 0.9913\n",
      "Epoch 6/30\n",
      "300/300 [==============================] - 16s - loss: 0.0578 - acc: 0.9827 - val_loss: 0.0893 - val_acc: 0.9943\n",
      "Epoch 7/30\n",
      "300/300 [==============================] - 17s - loss: 0.0542 - acc: 0.9838 - val_loss: 0.1062 - val_acc: 0.9933\n",
      "Epoch 8/30\n",
      "300/300 [==============================] - 17s - loss: 0.0527 - acc: 0.9842 - val_loss: 0.1275 - val_acc: 0.9920\n",
      "Epoch 9/30\n",
      "300/300 [==============================] - 17s - loss: 0.0471 - acc: 0.9856 - val_loss: 0.0930 - val_acc: 0.9942\n",
      "Epoch 10/30\n",
      "299/300 [============================>.] - ETA: 0s - loss: 0.0455 - acc: 0.9862\n",
      "Epoch 00009: reducing learning rate to 0.0005000000237487257.\n",
      "300/300 [==============================] - 17s - loss: 0.0454 - acc: 0.9863 - val_loss: 0.0930 - val_acc: 0.9942\n",
      "Epoch 11/30\n",
      "300/300 [==============================] - 17s - loss: 0.0365 - acc: 0.9892 - val_loss: 0.0902 - val_acc: 0.9943\n",
      "Epoch 12/30\n",
      "300/300 [==============================] - 17s - loss: 0.0343 - acc: 0.9890 - val_loss: 0.0916 - val_acc: 0.9942\n",
      "Epoch 13/30\n",
      "299/300 [============================>.] - ETA: 0s - loss: 0.0328 - acc: 0.9902\n",
      "Epoch 00012: reducing learning rate to 0.0002500000118743628.\n",
      "300/300 [==============================] - 16s - loss: 0.0328 - acc: 0.9902 - val_loss: 0.0910 - val_acc: 0.9943\n",
      "Epoch 14/30\n",
      "300/300 [==============================] - 17s - loss: 0.0283 - acc: 0.9913 - val_loss: 0.0811 - val_acc: 0.9949\n",
      "Epoch 15/30\n",
      "300/300 [==============================] - 17s - loss: 0.0289 - acc: 0.9912 - val_loss: 0.0873 - val_acc: 0.9946\n",
      "Epoch 16/30\n",
      "300/300 [==============================] - 17s - loss: 0.0273 - acc: 0.9915 - val_loss: 0.0851 - val_acc: 0.9946\n",
      "Epoch 17/30\n",
      "300/300 [==============================] - 17s - loss: 0.0272 - acc: 0.9915 - val_loss: 0.0904 - val_acc: 0.9943\n",
      "Epoch 18/30\n",
      "299/300 [============================>.] - ETA: 0s - loss: 0.0265 - acc: 0.9919\n",
      "Epoch 00017: reducing learning rate to 0.0001250000059371814.\n",
      "300/300 [==============================] - 17s - loss: 0.0265 - acc: 0.9919 - val_loss: 0.0857 - val_acc: 0.9947\n",
      "Epoch 19/30\n",
      "300/300 [==============================] - 17s - loss: 0.0256 - acc: 0.9924 - val_loss: 0.0855 - val_acc: 0.9946\n",
      "Epoch 20/30\n",
      "300/300 [==============================] - 17s - loss: 0.0241 - acc: 0.9927 - val_loss: 0.0779 - val_acc: 0.9952\n",
      "Epoch 21/30\n",
      "300/300 [==============================] - 17s - loss: 0.0240 - acc: 0.9926 - val_loss: 0.0873 - val_acc: 0.9945\n",
      "Epoch 22/30\n",
      "300/300 [==============================] - 17s - loss: 0.0236 - acc: 0.9924 - val_loss: 0.0881 - val_acc: 0.9945\n",
      "Epoch 23/30\n",
      "300/300 [==============================] - 17s - loss: 0.0236 - acc: 0.9930 - val_loss: 0.0888 - val_acc: 0.9944\n",
      "Epoch 24/30\n",
      "299/300 [============================>.] - ETA: 0s - loss: 0.0230 - acc: 0.9930\n",
      "Epoch 00023: reducing learning rate to 6.25000029685907e-05.\n",
      "300/300 [==============================] - 17s - loss: 0.0229 - acc: 0.9930 - val_loss: 0.0848 - val_acc: 0.9947\n",
      "Epoch 25/30\n",
      "300/300 [==============================] - 16s - loss: 0.0211 - acc: 0.9933 - val_loss: 0.0913 - val_acc: 0.9943\n",
      "Epoch 26/30\n",
      "300/300 [==============================] - 17s - loss: 0.0218 - acc: 0.9932 - val_loss: 0.0833 - val_acc: 0.9948\n",
      "Epoch 27/30\n",
      "299/300 [============================>.] - ETA: 0s - loss: 0.0216 - acc: 0.9933\n",
      "Epoch 00026: reducing learning rate to 3.125000148429535e-05.\n",
      "300/300 [==============================] - 17s - loss: 0.0215 - acc: 0.9933 - val_loss: 0.0878 - val_acc: 0.9945\n",
      "Epoch 28/30\n",
      "300/300 [==============================] - 17s - loss: 0.0200 - acc: 0.9939 - val_loss: 0.0856 - val_acc: 0.9947\n",
      "Epoch 29/30\n",
      "300/300 [==============================] - 17s - loss: 0.0211 - acc: 0.9936 - val_loss: 0.0815 - val_acc: 0.9948\n",
      "Epoch 30/30\n",
      "299/300 [============================>.] - ETA: 0s - loss: 0.0201 - acc: 0.9937\n",
      "Epoch 00029: reducing learning rate to 1.5625000742147677e-05.\n",
      "300/300 [==============================] - 17s - loss: 0.0201 - acc: 0.9937 - val_loss: 0.0840 - val_acc: 0.9945\n"
     ]
    }
   ],
   "source": [
    "# 開始訓練\n",
    "train_history = model.fit_generator(train_generator, \n",
    "                                    steps_per_epoch=300, \n",
    "                                    epochs=30, \n",
    "                                    verbose=1,\n",
    "                                    validation_data=(x_val, y_val_onehot),\n",
    "                                    callbacks=[learning_rate_function])\n",
    "#train_history = model.fit(x_train_normalized, y_train_onehot, validation_split=0.2, epochs=10, batch_size=300, verbose=1)"
   ]
  },
  {
   "cell_type": "code",
   "execution_count": 15,
   "metadata": {},
   "outputs": [
    {
     "data": {
      "image/png": "[encoded data removed]",
      "text/plain": [
       "<matplotlib.figure.Figure at 0x7f9f6a0e2c88>"
      ]
     },
     "metadata": {},
     "output_type": "display_data"
    }
   ],
   "source": [
    "show_train_history(train_history, 'acc', 'val_acc')"
   ]
  },
  {
   "cell_type": "code",
   "execution_count": 16,
   "metadata": {},
   "outputs": [
    {
     "data": {
      "image/png": "[encoded data removed]",
      "text/plain": [
       "<matplotlib.figure.Figure at 0x7f9f3c7022b0>"
      ]
     },
     "metadata": {},
     "output_type": "display_data"
    }
   ],
   "source": [
    "show_train_history(train_history, 'loss', 'val_loss')"
   ]
  },
  {
   "cell_type": "code",
   "execution_count": 17,
   "metadata": {},
   "outputs": [
    {
     "name": "stdout",
     "output_type": "stream",
     "text": [
      " 9760/10000 [============================>.] - ETA: 0s\n",
      "Accuracy 0.9963%\n"
     ]
    }
   ],
   "source": [
    "y_test_onehot = np_utils.to_categorical(y_test)\n",
    "score = model.evaluate(x_test, y_test_onehot)\n",
    "print()\n",
    "print(\"Accuracy {}%\".format(score[1]))"
   ]
  },
  {
   "cell_type": "code",
   "execution_count": 18,
   "metadata": {},
   "outputs": [
    {
     "name": "stdout",
     "output_type": "stream",
     "text": [
      " 9568/10000 [===========================>..] - ETA: 0s\n",
      "[7 2 1 ..., 4 5 6]\n"
     ]
    }
   ],
   "source": [
    "results = model.predict_classes(x_test)\n",
    "print()\n",
    "print(results)"
   ]
  },
  {
   "cell_type": "code",
   "execution_count": 19,
   "metadata": {
    "collapsed": true
   },
   "outputs": [],
   "source": [
    "import itertools\n",
    "def plot_confusion_matrix(cm, classes, normalize=False, title=\"Confusion Matrix\", cmap=plt.cm.Blues):\n",
    "    plt.figure()\n",
    "    plt.imshow(cm, interpolation='nearest', cmap=cmap)\n",
    "    plt.title(title)\n",
    "    plt.colorbar()\n",
    "    tick_marks = np.arange(len(classes))\n",
    "    plt.xticks(tick_marks, classes, rotation=45)\n",
    "    plt.yticks(tick_marks, classes)\n",
    "    if normalize:\n",
    "        cm = cm.astype('float') / cm.sum(axis=1)[:, np.newaxis]\n",
    "    thresh = cm.max() / 2\n",
    "    for i, j in itertools.product(range(cm.shape[0]), range(cm.shape[1])):\n",
    "        plt.text(j, i, cm[i, j], horizontalalignment=\"center\", color=\"white\" if cm[i, j] > thresh else \"black\")\n",
    "    \n",
    "    plt.tight_layout()\n",
    "    plt.ylabel('True label')\n",
    "    plt.xlabel('Predicted label')"
   ]
  },
  {
   "cell_type": "code",
   "execution_count": 20,
   "metadata": {
    "collapsed": true
   },
   "outputs": [],
   "source": [
    "from sklearn.metrics import confusion_matrix\n",
    "cm = confusion_matrix(y_test, results)"
   ]
  },
  {
   "cell_type": "code",
   "execution_count": 21,
   "metadata": {},
   "outputs": [
    {
     "data": {
      "image/png": "[encoded data removed]",
      "text/plain": [
       "<matplotlib.figure.Figure at 0x7f9f44133cf8>"
      ]
     },
     "metadata": {},
     "output_type": "display_data"
    }
   ],
   "source": [
    "plot_confusion_matrix(cm, range(0, 9))"
   ]
  },
  {
   "cell_type": "code",
   "execution_count": 22,
   "metadata": {},
   "outputs": [
    {
     "data": {
      "image/png": "[encoded data removed]",
      "text/plain": [
       "<matplotlib.figure.Figure at 0x7f9f440202e8>"
      ]
     },
     "metadata": {},
     "output_type": "display_data"
    }
   ],
   "source": [
    "incorrect = np.where(y_test != results)[0]\n",
    "test_set = np.squeeze(x_test, axis=3)\n",
    "for i in range(0, 9):\n",
    "    plt.subplot(3, 3, i+1)\n",
    "    idx = incorrect[i]\n",
    "    img = test_set[idx]\n",
    "    plt.imshow(img, cmap=\"gray\")\n",
    "    plt.title(\"{}/{}\".format(y_test[idx], results[idx]))"
   ]
  },
  {
   "cell_type": "code",
   "execution_count": 23,
   "metadata": {},
   "outputs": [
    {
     "data": {
      "image/png": "[encoded data removed]",
      "text/plain": [
       "<matplotlib.figure.Figure at 0x7f9f6a226f98>"
      ]
     },
     "metadata": {},
     "output_type": "display_data"
    }
   ],
   "source": [
    "correct = np.where(y_test == results)[0]\n",
    "for i in range(0, 9):\n",
    "    plt.subplot(3, 3, i+1)\n",
    "    idx = correct[i]\n",
    "    img = test_set[idx]\n",
    "    plt.imshow(img, cmap=\"gray\")\n",
    "    plt.title(\"{}\".format(y_test[idx]))"
   ]
  },
  {
   "cell_type": "code",
   "execution_count": 24,
   "metadata": {
    "collapsed": true
   },
   "outputs": [],
   "source": [
    "model.save_weights(\"cnn2.h5\")"
   ]
  },
  {
   "cell_type": "code",
   "execution_count": null,
   "metadata": {
    "collapsed": true
   },
   "outputs": [],
   "source": []
  }
 ],
 "metadata": {
  "kernelspec": {
   "display_name": "Python 3",
   "language": "python",
   "name": "python3"
  },
  "language_info": {
   "codemirror_mode": {
    "name": "ipython",
    "version": 3
   },
   "file_extension": ".py",
   "mimetype": "text/x-python",
   "name": "python",
   "nbconvert_exporter": "python",
   "pygments_lexer": "ipython3",
   "version": "3.6.2"
  }
 },
 "nbformat": 4,
 "nbformat_minor": 2
}
